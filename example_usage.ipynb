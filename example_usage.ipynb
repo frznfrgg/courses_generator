{
 "cells": [
  {
   "cell_type": "code",
   "execution_count": null,
   "metadata": {},
   "outputs": [],
   "source": [
    "# from Wav2Lip.interface import Wav2LipInterface\n",
    "import Wav2Lip.interface"
   ]
  },
  {
   "cell_type": "code",
   "execution_count": null,
   "metadata": {},
   "outputs": [],
   "source": [
    "video_path = \"data/subclip.mp4\"\n",
    "audio_path = \"data/audio_subclip.mp3\"\n",
    "\n",
    "wav2lip = Wav2Lip.interface.Wav2LipInterface(\n",
    "    video_path=video_path, audio_path=audio_path\n",
    ")"
   ]
  },
  {
   "cell_type": "code",
   "execution_count": null,
   "metadata": {},
   "outputs": [],
   "source": [
    "wav2lip.generate()"
   ]
  }
 ],
 "metadata": {
  "kernelspec": {
   "display_name": "Python 3",
   "language": "python",
   "name": "python3"
  },
  "language_info": {
   "name": "python",
   "version": "3.10.16"
  }
 },
 "nbformat": 4,
 "nbformat_minor": 2
}
