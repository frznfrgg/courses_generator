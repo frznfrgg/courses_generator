{
 "cells": [
  {
   "cell_type": "markdown",
   "metadata": {},
   "source": [
    "# Example usage of Wav2Lip model (via custom interface class)"
   ]
  },
  {
   "cell_type": "code",
   "execution_count": 1,
   "metadata": {},
   "outputs": [],
   "source": [
    "from Wav2Lip.interface import Wav2LipInterface"
   ]
  },
  {
   "cell_type": "code",
   "execution_count": null,
   "metadata": {},
   "outputs": [],
   "source": [
    "video_path = \"data/subclip.mp4\"\n",
    "audio_path = \"data/audio_subclip.mp3\"\n",
    "\n",
    "wav2lip = Wav2LipInterface(video_path=video_path, audio_path=audio_path)"
   ]
  },
  {
   "cell_type": "code",
   "execution_count": 3,
   "metadata": {},
   "outputs": [
    {
     "name": "stderr",
     "output_type": "stream",
     "text": [
      "ffmpeg version 7.1.1 Copyright (c) 2000-2025 the FFmpeg developers\n",
      "  built with gcc 13.3.0 (conda-forge gcc 13.3.0-2)\n",
      "  configuration: --prefix=/home/usr2/mambaforge/envs/ai_courses --cc=/home/conda/feedstock_root/build_artifacts/ffmpeg_1743376049581/_build_env/bin/x86_64-conda-linux-gnu-cc --cxx=/home/conda/feedstock_root/build_artifacts/ffmpeg_1743376049581/_build_env/bin/x86_64-conda-linux-gnu-c++ --nm=/home/conda/feedstock_root/build_artifacts/ffmpeg_1743376049581/_build_env/bin/x86_64-conda-linux-gnu-nm --ar=/home/conda/feedstock_root/build_artifacts/ffmpeg_1743376049581/_build_env/bin/x86_64-conda-linux-gnu-ar --disable-doc --enable-openssl --enable-demuxer=dash --enable-hardcoded-tables --enable-libfreetype --enable-libharfbuzz --enable-libfontconfig --enable-libopenh264 --enable-libdav1d --disable-gnutls --enable-libvpx --enable-libass --enable-pthreads --enable-alsa --enable-libpulse --enable-vaapi --enable-libopenvino --enable-gpl --enable-libx264 --enable-libx265 --enable-libmp3lame --enable-libaom --enable-libsvtav1 --enable-libxml2 --enable-pic --enable-shared --disable-static --enable-version3 --enable-zlib --enable-libvorbis --enable-libopus --enable-librsvg --enable-ffplay --pkg-config=/home/conda/feedstock_root/build_artifacts/ffmpeg_1743376049581/_build_env/bin/pkg-config\n",
      "  libavutil      59. 39.100 / 59. 39.100\n",
      "  libavcodec     61. 19.101 / 61. 19.101\n",
      "  libavformat    61.  7.100 / 61.  7.100\n",
      "  libavdevice    61.  3.100 / 61.  3.100\n",
      "  libavfilter    10.  4.100 / 10.  4.100\n",
      "  libswscale      8.  3.100 /  8.  3.100\n",
      "  libswresample   5.  3.100 /  5.  3.100\n",
      "  libpostproc    58.  3.100 / 58.  3.100\n",
      "Input #0, mp3, from 'data/audio_subclip.mp3':\n",
      "  Metadata:\n",
      "    encoder         : Lavf61.7.100\n",
      "  Duration: 00:00:30.04, start: 0.025057, bitrate: 128 kb/s\n",
      "  Stream #0:0: Audio: mp3 (mp3float), 44100 Hz, stereo, fltp, 128 kb/s\n",
      "      Metadata:\n",
      "        encoder         : Lavc61.19\n",
      "Stream mapping:\n",
      "  Stream #0:0 -> #0:0 (mp3 (mp3float) -> pcm_s16le (native))\n",
      "Press [q] to stop, [?] for help\n",
      "Output #0, wav, to '/home/usr2/Nikita/ai_courses/Wav2Lip/temp/temp.wav':\n",
      "  Metadata:\n",
      "    ISFT            : Lavf61.7.100\n",
      "  Stream #0:0: Audio: pcm_s16le ([1][0][0][0] / 0x0001), 44100 Hz, stereo, s16, 1411 kb/s\n",
      "      Metadata:\n",
      "        encoder         : Lavc61.19.101 pcm_s16le\n",
      "[out#0/wav @ 0x6353146007c0] video:0KiB audio:5168KiB subtitle:0KiB other streams:0KiB global headers:0KiB muxing overhead: 0.001474%\n",
      "size=    5168KiB time=00:00:30.00 bitrate=1411.2kbits/s speed=1.36e+03x    \n",
      "/home/usr2/Nikita/ai_courses/Wav2Lip/audio.py:119: FutureWarning: Pass sr=16000, n_fft=800 as keyword args. From version 0.10 passing these as positional arguments will result in an error\n",
      "  return librosa.filters.mel(\n",
      "ffmpeg version 7.1.1 Copyright (c) 2000-2025 the FFmpeg developers\n",
      "  built with gcc 13.3.0 (conda-forge gcc 13.3.0-2)\n",
      "  configuration: --prefix=/home/usr2/mambaforge/envs/ai_courses --cc=/home/conda/feedstock_root/build_artifacts/ffmpeg_1743376049581/_build_env/bin/x86_64-conda-linux-gnu-cc --cxx=/home/conda/feedstock_root/build_artifacts/ffmpeg_1743376049581/_build_env/bin/x86_64-conda-linux-gnu-c++ --nm=/home/conda/feedstock_root/build_artifacts/ffmpeg_1743376049581/_build_env/bin/x86_64-conda-linux-gnu-nm --ar=/home/conda/feedstock_root/build_artifacts/ffmpeg_1743376049581/_build_env/bin/x86_64-conda-linux-gnu-ar --disable-doc --enable-openssl --enable-demuxer=dash --enable-hardcoded-tables --enable-libfreetype --enable-libharfbuzz --enable-libfontconfig --enable-libopenh264 --enable-libdav1d --disable-gnutls --enable-libvpx --enable-libass --enable-pthreads --enable-alsa --enable-libpulse --enable-vaapi --enable-libopenvino --enable-gpl --enable-libx264 --enable-libx265 --enable-libmp3lame --enable-libaom --enable-libsvtav1 --enable-libxml2 --enable-pic --enable-shared --disable-static --enable-version3 --enable-zlib --enable-libvorbis --enable-libopus --enable-librsvg --enable-ffplay --pkg-config=/home/conda/feedstock_root/build_artifacts/ffmpeg_1743376049581/_build_env/bin/pkg-config\n",
      "  libavutil      59. 39.100 / 59. 39.100\n",
      "  libavcodec     61. 19.101 / 61. 19.101\n",
      "  libavformat    61.  7.100 / 61.  7.100\n",
      "  libavdevice    61.  3.100 / 61.  3.100\n",
      "  libavfilter    10.  4.100 / 10.  4.100\n",
      "  libswscale      8.  3.100 /  8.  3.100\n",
      "  libswresample   5.  3.100 /  5.  3.100\n",
      "  libpostproc    58.  3.100 / 58.  3.100\n",
      "Input #0, mp3, from 'data/audio_subclip.mp3':\n",
      "  Metadata:\n",
      "    encoder         : Lavf61.7.100\n",
      "  Duration: 00:00:30.04, start: 0.025057, bitrate: 128 kb/s\n",
      "  Stream #0:0: Audio: mp3 (mp3float), 44100 Hz, stereo, fltp, 128 kb/s\n",
      "      Metadata:\n",
      "        encoder         : Lavc61.19\n",
      "Input #1, avi, from '/home/usr2/Nikita/ai_courses/Wav2Lip/temp/result.avi':\n",
      "  Metadata:\n",
      "    software        : Lavf61.7.100\n",
      "  Duration: 00:00:29.88, start: 0.000000, bitrate: 1904 kb/s\n",
      "  Stream #1:0: Video: mpeg4 (Simple Profile) (DIVX / 0x58564944), yuv420p, 1280x720 [SAR 1:1 DAR 16:9], 1900 kb/s, 25 fps, 25 tbr, 25 tbn\n",
      "Stream mapping:\n",
      "  Stream #1:0 -> #0:0 (mpeg4 (native) -> h264 (libx264))\n",
      "  Stream #0:0 -> #0:1 (mp3 (mp3float) -> aac (native))\n",
      "Press [q] to stop, [?] for help\n",
      "[libx264 @ 0x5ecd7e67a3c0] -qscale is ignored, -crf is recommended.\n",
      "[libx264 @ 0x5ecd7e67a3c0] using SAR=1/1\n",
      "[libx264 @ 0x5ecd7e67a3c0] using cpu capabilities: MMX2 SSE2Fast SSSE3 SSE4.2 AVX FMA3 BMI2 AVX2\n",
      "[libx264 @ 0x5ecd7e67a3c0] profile High, level 3.1, 4:2:0, 8-bit\n",
      "[libx264 @ 0x5ecd7e67a3c0] 264 - core 164 r3095 baee400 - H.264/MPEG-4 AVC codec - Copyleft 2003-2022 - http://www.videolan.org/x264.html - options: cabac=1 ref=3 deblock=1:0:0 analyse=0x3:0x113 me=hex subme=7 psy=1 psy_rd=1.00:0.00 mixed_ref=1 me_range=16 chroma_me=1 trellis=1 8x8dct=1 cqm=0 deadzone=21,11 fast_pskip=1 chroma_qp_offset=-2 threads=22 lookahead_threads=3 sliced_threads=0 nr=0 decimate=1 interlaced=0 bluray_compat=0 constrained_intra=0 bframes=3 b_pyramid=2 b_adapt=1 b_bias=0 direct=1 weightb=1 open_gop=0 weightp=2 keyint=250 keyint_min=25 scenecut=40 intra_refresh=0 rc_lookahead=40 rc=crf mbtree=1 crf=23.0 qcomp=0.60 qpmin=0 qpmax=69 qpstep=4 ip_ratio=1.40 aq=1:1.00\n",
      "Output #0, mp4, to '/home/usr2/Nikita/ai_courses/Wav2Lip/results/result_voice.mp4':\n",
      "  Metadata:\n",
      "    encoder         : Lavf61.7.100\n",
      "  Stream #0:0: Video: h264 (avc1 / 0x31637661), yuv420p(tv, progressive), 1280x720 [SAR 1:1 DAR 16:9], q=2-31, 25 fps, 12800 tbn\n",
      "      Metadata:\n",
      "        encoder         : Lavc61.19.101 libx264\n",
      "      Side data:\n",
      "        cpb: bitrate max/min/avg: 0/0/0 buffer size: 0 vbv_delay: N/A\n",
      "  Stream #0:1: Audio: aac (LC) (mp4a / 0x6134706D), 44100 Hz, stereo, fltp, 128 kb/s\n",
      "      Metadata:\n",
      "        encoder         : Lavc61.19.101 aac\n",
      "[out#0/mp4 @ 0x5ecd7e691f40] video:2655KiB audio:473KiB subtitle:0KiB other streams:0KiB global headers:0KiB muxing overhead: 0.777155%\n",
      "frame=  747 fps=400 q=-1.0 Lsize=    3153KiB time=00:00:29.80 bitrate= 866.7kbits/s speed=  16x    \n",
      "[libx264 @ 0x5ecd7e67a3c0] frame I:3     Avg QP:18.27  size: 56976\n",
      "[libx264 @ 0x5ecd7e67a3c0] frame P:415   Avg QP:19.48  size:  5192\n",
      "[libx264 @ 0x5ecd7e67a3c0] frame B:329   Avg QP:23.66  size:  1194\n",
      "[libx264 @ 0x5ecd7e67a3c0] consecutive B-frames: 34.3% 18.5%  7.6% 39.6%\n",
      "[libx264 @ 0x5ecd7e67a3c0] mb I  I16..4: 19.2% 70.8% 10.0%\n",
      "[libx264 @ 0x5ecd7e67a3c0] mb P  I16..4:  0.6%  3.2%  0.1%  P16..4: 14.8%  4.8%  4.0%  0.0%  0.0%    skip:72.5%\n",
      "[libx264 @ 0x5ecd7e67a3c0] mb B  I16..4:  0.2%  0.9%  0.0%  B16..8: 20.3%  0.7%  0.1%  direct: 0.2%  skip:77.6%  L0:47.4% L1:50.6% BI: 2.0%\n",
      "[libx264 @ 0x5ecd7e67a3c0] 8x8 transform intra:80.2% inter:78.2%\n",
      "[libx264 @ 0x5ecd7e67a3c0] coded y,uvDC,uvAC intra: 49.1% 43.5% 7.4% inter: 4.5% 4.9% 0.2%\n",
      "[libx264 @ 0x5ecd7e67a3c0] i16 v,h,dc,p: 18% 56% 19%  8%\n",
      "[libx264 @ 0x5ecd7e67a3c0] i8 v,h,dc,ddl,ddr,vr,hd,vl,hu: 16% 36% 39%  2%  1%  1%  1%  1%  2%\n",
      "[libx264 @ 0x5ecd7e67a3c0] i4 v,h,dc,ddl,ddr,vr,hd,vl,hu: 36% 32% 11%  3%  4%  4%  4%  3%  3%\n",
      "[libx264 @ 0x5ecd7e67a3c0] i8c dc,h,v,p: 45% 33% 19%  3%\n",
      "[libx264 @ 0x5ecd7e67a3c0] Weighted P-Frames: Y:0.0% UV:0.0%\n",
      "[libx264 @ 0x5ecd7e67a3c0] ref P L0: 75.3% 10.7% 10.2%  3.8%\n",
      "[libx264 @ 0x5ecd7e67a3c0] ref B L0: 83.0% 14.0%  3.0%\n",
      "[libx264 @ 0x5ecd7e67a3c0] ref B L1: 96.4%  3.6%\n",
      "[libx264 @ 0x5ecd7e67a3c0] kb/s:727.78\n",
      "[aac @ 0x5ecd7e6f7a00] Qavg: 641.516\n"
     ]
    }
   ],
   "source": [
    "wav2lip.generate()"
   ]
  }
 ],
 "metadata": {
  "kernelspec": {
   "display_name": "ai_courses",
   "language": "python",
   "name": "python3"
  },
  "language_info": {
   "codemirror_mode": {
    "name": "ipython",
    "version": 3
   },
   "file_extension": ".py",
   "mimetype": "text/x-python",
   "name": "python",
   "nbconvert_exporter": "python",
   "pygments_lexer": "ipython3",
   "version": "3.10.16"
  }
 },
 "nbformat": 4,
 "nbformat_minor": 2
}
