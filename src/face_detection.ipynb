{
 "cells": [
  {
   "cell_type": "code",
   "execution_count": 1,
   "metadata": {},
   "outputs": [],
   "source": [
    "import cv2\n",
    "import numpy as np\n",
    "import librosa"
   ]
  },
  {
   "cell_type": "code",
   "execution_count": null,
   "metadata": {},
   "outputs": [],
   "source": [
    "# Load YuNet model (download if not already available)\n",
    "model_path = (\n",
    "    \"models/YUnet/face_detection_yunet_2023mar_int8bq.onnx\"  # Update with actual path\n",
    ")\n",
    "\n",
    "# Initialize the face detector\n",
    "detector = cv2.FaceDetectorYN.create(\n",
    "    model=model_path,\n",
    "    config=\"\",  # Not required for ONNX models\n",
    "    input_size=(720, 1280),  # Adjust based on input resolution\n",
    "    score_threshold=0.9,\n",
    "    nms_threshold=0.3,\n",
    "    top_k=5000,\n",
    ")\n",
    "\n",
    "# Read an image\n",
    "image = cv2.imread(\"../samples/image.png\")\n",
    "print(image.shape)\n",
    "height, width = image.shape[:2]\n",
    "\n",
    "# Set the input size based on the image\n",
    "detector.setInputSize((width, height))\n",
    "\n",
    "# Detect faces\n",
    "faces = detector.detect(image)\n",
    "\n",
    "\n",
    "print(faces)\n",
    "print(faces[1].shape)"
   ]
  },
  {
   "cell_type": "code",
   "execution_count": null,
   "metadata": {},
   "outputs": [],
   "source": [
    "x, y, w, h = map(int, faces[1][0][:4])\n",
    "crop_img = image[y : y + h, x : x + w]\n",
    "\n",
    "crop_img.shape"
   ]
  },
  {
   "cell_type": "code",
   "execution_count": null,
   "metadata": {},
   "outputs": [],
   "source": [
    "\n",
    "cv2.imshow(\"cropped\", crop_img)\n",
    "cv2.waitKey(0)"
   ]
  },
  {
   "cell_type": "code",
   "execution_count": 2,
   "metadata": {},
   "outputs": [],
   "source": [
    "def detect_face(\n",
    "    image: np.array,\n",
    "    model_path=\"models/YUnet/face_detection_yunet_2023mar_int8bq.onnx\",\n",
    ") -> np.array:\n",
    "    \n",
    "    detector = cv2.FaceDetectorYN.create(\n",
    "        model=model_path,\n",
    "        config=\"\",\n",
    "        input_size=(image.shape[0], image.shape[1]),\n",
    "        score_threshold=0.9,\n",
    "        nms_threshold=0.3,\n",
    "        top_k=5000,\n",
    "    )\n",
    "    \n",
    "    height, width = image.shape[:2]\n",
    "    \n",
    "    detector.setInputSize((width, height))\n",
    "    faces = detector.detect(image)\n",
    "\n",
    "    x, y, w, h = map(int, faces[1][0][:4])\n",
    "    cropped_image = image[y:y+h, x:x+w, :]\n",
    "    return cropped_image"
   ]
  },
  {
   "cell_type": "code",
   "execution_count": 3,
   "metadata": {},
   "outputs": [
    {
     "name": "stdout",
     "output_type": "stream",
     "text": [
      "Extracted 750 frames from video.\n"
     ]
    }
   ],
   "source": [
    "def extract_frames(video_path):\n",
    "    cap = cv2.VideoCapture(video_path)\n",
    "    frames = []\n",
    "    while cap.isOpened():\n",
    "        ret, frame = cap.read()\n",
    "        if not ret:\n",
    "            break\n",
    "        frames.append(frame)\n",
    "    cap.release()\n",
    "    return np.array(frames)\n",
    "\n",
    "\n",
    "video_frames = extract_frames(\"../samples/subclip.mp4\")\n",
    "print(f\"Extracted {len(video_frames)} frames from video.\")"
   ]
  },
  {
   "cell_type": "code",
   "execution_count": null,
   "metadata": {},
   "outputs": [],
   "source": [
    "video_frames[300]"
   ]
  },
  {
   "cell_type": "code",
   "execution_count": null,
   "metadata": {},
   "outputs": [],
   "source": [
    "face = detect_face(video_frames[0])\n",
    "face.shape"
   ]
  },
  {
   "cell_type": "code",
   "execution_count": null,
   "metadata": {},
   "outputs": [],
   "source": [
    "cv2.imshow(\"face\", face)\n",
    "cv2.waitKey(0)"
   ]
  },
  {
   "cell_type": "code",
   "execution_count": null,
   "metadata": {},
   "outputs": [],
   "source": [
    "faces[5].shape"
   ]
  },
  {
   "cell_type": "code",
   "execution_count": null,
   "metadata": {},
   "outputs": [],
   "source": [
    "faces = []\n",
    "cnt = 0\n",
    "for i, face in enumerate(video_frames):\n",
    "    cnt += 1\n",
    "    print(cnt)\n",
    "    face = detect_face(face)\n",
    "    faces.append(face)"
   ]
  }
 ],
 "metadata": {
  "kernelspec": {
   "display_name": "ai_courses",
   "language": "python",
   "name": "python3"
  },
  "language_info": {
   "codemirror_mode": {
    "name": "ipython",
    "version": 3
   },
   "file_extension": ".py",
   "mimetype": "text/x-python",
   "name": "python",
   "nbconvert_exporter": "python",
   "pygments_lexer": "ipython3",
   "version": "3.10.16"
  }
 },
 "nbformat": 4,
 "nbformat_minor": 2
}
