{
 "cells": [
  {
   "cell_type": "code",
   "execution_count": 1,
   "metadata": {},
   "outputs": [],
   "source": [
    "from collections import OrderedDict\n",
    "\n",
    "import cv2\n",
    "import librosa\n",
    "import numpy as np\n",
    "import torch\n",
    "from models.Wav2Lip.model import wav2lip\n",
    "from moviepy.editor import AudioFileClip, VideoFileClip"
   ]
  },
  {
   "cell_type": "markdown",
   "metadata": {},
   "source": [
    "# Preparing samples for testing"
   ]
  },
  {
   "cell_type": "code",
   "execution_count": null,
   "metadata": {},
   "outputs": [],
   "source": [
    "input_video = \"../samples/hd.mp4\"\n",
    "output_video = \"../samples/clip.mp4\"\n",
    "\n",
    "# Define start and end time (in seconds)\n",
    "start_time = 480\n",
    "end_time = 780\n",
    "\n",
    "clip = VideoFileClip(input_video)\n",
    "trimmed_clip = clip.subclip(start_time, end_time)\n",
    "trimmed_clip.write_videofile(output_video, fps=clip.fps)"
   ]
  },
  {
   "cell_type": "code",
   "execution_count": null,
   "metadata": {},
   "outputs": [],
   "source": [
    "clip = VideoFileClip(\"../samples/audio_sample.mp4\")\n",
    "clip = clip.subclip(600, 900)\n",
    "audioclip = clip.audio\n",
    "audioclip.write_audiofile(\"../samples/audio_clip.mp3\")"
   ]
  },
  {
   "cell_type": "markdown",
   "metadata": {},
   "source": [
    "# Loading model"
   ]
  },
  {
   "cell_type": "code",
   "execution_count": 2,
   "metadata": {},
   "outputs": [],
   "source": [
    "model = wav2lip.Wav2Lip()\n",
    "checkpoint = torch.load(\"models/Wav2Lip/weights/wav2lip.pth\", map_location=\"cpu\")\n",
    "new_state_dict = OrderedDict()\n",
    "for k, v in checkpoint[\"state_dict\"].items():\n",
    "    new_key = k.replace(\"module.\", \"\")\n",
    "    new_state_dict[new_key] = v\n",
    "model.load_state_dict(new_state_dict)\n",
    "model.eval()\n",
    "None"
   ]
  },
  {
   "cell_type": "markdown",
   "metadata": {},
   "source": [
    "# Preparing samples"
   ]
  },
  {
   "cell_type": "code",
   "execution_count": null,
   "metadata": {},
   "outputs": [],
   "source": [
    "input_video = \"../samples/clip.mp4\"\n",
    "output_video = \"../samples/subclip.mp4\"\n",
    "\n",
    "input_audio = \"../samples/audio_clip.mp3\"\n",
    "output_audio = \"../samples/audio_subclip.mp3\"\n",
    "\n",
    "start_time = 0\n",
    "end_time = 30\n",
    "\n",
    "clip = VideoFileClip(input_video)\n",
    "trimmed_clip = clip.subclip(start_time, end_time)\n",
    "trimmed_clip.write_videofile(output_video, fps=clip.fps)\n",
    "\n",
    "clip = AudioFileClip(input_audio)\n",
    "clip = clip.subclip(start_time, end_time)\n",
    "clip.write_audiofile(output_audio)"
   ]
  },
  {
   "cell_type": "markdown",
   "metadata": {},
   "source": [
    "# Testing"
   ]
  },
  {
   "cell_type": "code",
   "execution_count": 3,
   "metadata": {},
   "outputs": [
    {
     "name": "stdout",
     "output_type": "stream",
     "text": [
      "Extracted 750 frames from video.\n"
     ]
    }
   ],
   "source": [
    "def extract_frames(video_path):\n",
    "    cap = cv2.VideoCapture(video_path)\n",
    "    frames = []\n",
    "    while cap.isOpened():\n",
    "        ret, frame = cap.read()\n",
    "        if not ret:\n",
    "            break\n",
    "        frames.append(frame)\n",
    "    cap.release()\n",
    "    return np.array(frames)\n",
    "\n",
    "\n",
    "video_frames = extract_frames(\"../samples/subclip.mp4\")\n",
    "print(f\"Extracted {len(video_frames)} frames from video.\")"
   ]
  },
  {
   "cell_type": "code",
   "execution_count": 4,
   "metadata": {},
   "outputs": [],
   "source": [
    "def detect_face(\n",
    "    image: np.array,\n",
    "    model_path=\"models/YUnet/face_detection_yunet_2023mar_int8bq.onnx\",\n",
    ") -> np.array:\n",
    "    detector = cv2.FaceDetectorYN.create(\n",
    "        model=model_path,\n",
    "        config=\"\",\n",
    "        input_size=(image.shape[0], image.shape[1]),\n",
    "        score_threshold=0.9,\n",
    "        nms_threshold=0.3,\n",
    "        top_k=5000,\n",
    "    )\n",
    "\n",
    "    height, width = image.shape[:2]\n",
    "\n",
    "    detector.setInputSize((width, height))\n",
    "    faces = detector.detect(image)\n",
    "\n",
    "    x, y, w, h = map(int, faces[1][0][:4])\n",
    "    cropped_image = image[y : y + h, x : x + w, :]\n",
    "    # converting to shape [n_channels, height, width]\n",
    "    # height and width are predifined to be 96\n",
    "    cropped_image = cv2.resize(\n",
    "        cropped_image, dsize=(96, 96), interpolation=cv2.INTER_CUBIC\n",
    "    )\n",
    "    cropped_image = np.transpose(cropped_image, (2, 0, 1))\n",
    "    # cropped_image = cropped_image[np.newaxis, :, :, :]\n",
    "    return cropped_image"
   ]
  },
  {
   "cell_type": "code",
   "execution_count": null,
   "metadata": {},
   "outputs": [
    {
     "data": {
      "text/plain": [
       "(750, 1, 80, 16)"
      ]
     },
     "execution_count": 22,
     "metadata": {},
     "output_type": "execute_result"
    }
   ],
   "source": [
    "def audio_to_mel(audio_path, num_frames, fps):\n",
    "    secs_per_frame = 1 / fps\n",
    "    hop_len = int(secs_per_frame * 1000)\n",
    "\n",
    "    audio, sr = librosa.load(audio_path, sr=None)\n",
    "    audio = librosa.resample(audio, orig_sr=sr, target_sr=16000)\n",
    "    mel_spec = librosa.feature.melspectrogram(\n",
    "        y=audio, sr=16000, n_mels=80, hop_length=hop_len\n",
    "    )\n",
    "    mel_spec = librosa.power_to_db(mel_spec)\n",
    "\n",
    "    # converting to shape [batch_size, n_frames, n_channels, n_mels, chunk_size]\n",
    "    # chunk_size is predifined to be 16, n_mels is 80, n_channels is 1\n",
    "    n_mels, n_frames = mel_spec.shape\n",
    "    n_chunks = n_frames // 16\n",
    "    mel_spec = mel_spec[:, : n_chunks * 16]\n",
    "    mel_spec = mel_spec.reshape(n_mels, n_chunks, 16)\n",
    "    mel_spec = np.transpose(mel_spec, (1, 0, 2))\n",
    "\n",
    "    mel_spec = mel_spec[:, np.newaxis, :, :]\n",
    "    return mel_spec\n",
    "\n",
    "\n",
    "mel_spec = audio_to_mel(\"../samples/audio_subclip.mp3\", num_frames=750, fps=25)\n",
    "mel_spec.shape"
   ]
  },
  {
   "cell_type": "code",
   "execution_count": 7,
   "metadata": {},
   "outputs": [
    {
     "data": {
      "text/plain": [
       "(750, 3, 96, 96)"
      ]
     },
     "execution_count": 7,
     "metadata": {},
     "output_type": "execute_result"
    }
   ],
   "source": [
    "faces = []\n",
    "for frame in video_frames:\n",
    "    face = detect_face(frame)\n",
    "    faces.append(face)\n",
    "faces = np.array(faces)\n",
    "faces.shape"
   ]
  },
  {
   "cell_type": "code",
   "execution_count": 11,
   "metadata": {},
   "outputs": [
    {
     "data": {
      "text/plain": [
       "(750, 3, 96, 96)"
      ]
     },
     "execution_count": 11,
     "metadata": {},
     "output_type": "execute_result"
    }
   ],
   "source": [
    "regular_face = cv2.imread(\"../samples/regular_face.png\")\n",
    "regular_face = cv2.resize(regular_face, dsize=(96, 96), interpolation=cv2.INTER_CUBIC)\n",
    "regular_face_frames = np.tile(regular_face, (750, 1, 1, 1))\n",
    "regular_face_frames = np.transpose(regular_face_frames, (0, 3, 1, 2))\n",
    "regular_face_frames.shape"
   ]
  },
  {
   "cell_type": "code",
   "execution_count": 16,
   "metadata": {},
   "outputs": [
    {
     "data": {
      "text/plain": [
       "(750, 6, 96, 96)"
      ]
     },
     "execution_count": 16,
     "metadata": {},
     "output_type": "execute_result"
    }
   ],
   "source": [
    "frames = np.concatenate((faces, regular_face_frames), axis=1)\n",
    "frames.shape"
   ]
  },
  {
   "cell_type": "code",
   "execution_count": 39,
   "metadata": {},
   "outputs": [],
   "source": [
    "def run_wav2lip(model, frames, mel_spec):\n",
    "    frames = torch.tensor(frames).float()\n",
    "    mel = torch.tensor(mel_spec).float()\n",
    "    outputs = []\n",
    "    with torch.no_grad():\n",
    "        output = model(mel, frames)  # Now both tensors have batch size 750\n",
    "        outputs.append(output.cpu().numpy())\n",
    "    return np.array(outputs)\n",
    "\n",
    "\n",
    "output_frames = run_wav2lip(model, frames, mel_spec)"
   ]
  },
  {
   "cell_type": "code",
   "execution_count": 48,
   "metadata": {},
   "outputs": [
    {
     "data": {
      "text/plain": [
       "array([[0., 0., 0., ..., 0., 0., 0.],\n",
       "       [0., 0., 0., ..., 0., 0., 0.],\n",
       "       [0., 0., 0., ..., 0., 0., 0.],\n",
       "       ...,\n",
       "       [0., 0., 0., ..., 0., 0., 0.],\n",
       "       [0., 0., 0., ..., 0., 0., 0.],\n",
       "       [0., 0., 0., ..., 0., 0., 1.]], dtype=float32)"
      ]
     },
     "execution_count": 48,
     "metadata": {},
     "output_type": "execute_result"
    }
   ],
   "source": [
    "output_frames[0][0][0]"
   ]
  },
  {
   "cell_type": "code",
   "execution_count": 30,
   "metadata": {},
   "outputs": [
    {
     "data": {
      "text/plain": [
       "(750, 96, 96, 3)"
      ]
     },
     "execution_count": 30,
     "metadata": {},
     "output_type": "execute_result"
    }
   ],
   "source": [
    "output_frames = np.transpose(output_frames[0], (0, 2, 3, 1))\n",
    "output_frames.shape"
   ]
  },
  {
   "cell_type": "code",
   "execution_count": 36,
   "metadata": {},
   "outputs": [],
   "source": [
    "output_frames = output_frames.astype(np.uint8)"
   ]
  },
  {
   "cell_type": "code",
   "execution_count": 38,
   "metadata": {},
   "outputs": [
    {
     "name": "stdout",
     "output_type": "stream",
     "text": [
      "96 96\n"
     ]
    }
   ],
   "source": [
    "def save_video(frames, output_path, fps=25):\n",
    "    height, width, _ = frames[0].shape\n",
    "    print(height, width)\n",
    "    out = cv2.VideoWriter(\n",
    "        output_path, cv2.VideoWriter_fourcc(*\"mp4v\"), fps, (width, height)\n",
    "    )\n",
    "\n",
    "    for frame in frames:\n",
    "        out.write(cv2.cvtColor(frame, cv2.COLOR_RGB2BGR))\n",
    "\n",
    "    out.release()\n",
    "    cv2.destroyAllWindows()\n",
    "\n",
    "\n",
    "save_video(output_frames, \"output_lipsynced.mp4\")\n"
   ]
  },
  {
   "cell_type": "code",
   "execution_count": null,
   "metadata": {},
   "outputs": [],
   "source": []
  }
 ],
 "metadata": {
  "kernelspec": {
   "display_name": "ai_courses",
   "language": "python",
   "name": "python3"
  },
  "language_info": {
   "codemirror_mode": {
    "name": "ipython",
    "version": 3
   },
   "file_extension": ".py",
   "mimetype": "text/x-python",
   "name": "python",
   "nbconvert_exporter": "python",
   "pygments_lexer": "ipython3",
   "version": "3.10.16"
  }
 },
 "nbformat": 4,
 "nbformat_minor": 2
}
